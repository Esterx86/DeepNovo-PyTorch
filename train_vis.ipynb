{
 "cells": [
  {
   "cell_type": "code",
   "execution_count": 1,
   "id": "e0e6f7b0-3ca2-47e1-8eeb-d89cb6c60bbc",
   "metadata": {},
   "outputs": [
    {
     "name": "stderr",
     "output_type": "stream",
     "text": [
      "/home/zhuyy/.conda/envs/torch/lib/python3.8/site-packages/tqdm/auto.py:22: TqdmWarning: IProgress not found. Please update jupyter and ipywidgets. See https://ipywidgets.readthedocs.io/en/stable/user_install.html\n",
      "  from .autonotebook import tqdm as notebook_tqdm\n",
      "/home/zhuyy/.conda/envs/torch/lib/python3.8/site-packages/scipy/__init__.py:146: UserWarning: A NumPy version >=1.16.5 and <1.23.0 is required for this version of SciPy (detected version 1.23.2\n",
      "  warnings.warn(f\"A NumPy version >={np_minversion} and <{np_maxversion}\"\n"
     ]
    }
   ],
   "source": [
    "import torch\n",
    "import numpy as np\n",
    "from torch.utils.data import DataLoader\n",
    "from torch import Generator\n",
    "#from torch.optim import Adam, SGD\n",
    "from torch.optim.lr_scheduler import LambdaLR,StepLR\n",
    "#from torch.utils.tensorboard import SummaryWriter\n",
    "\n",
    "import config\n",
    "from model import Model, Focalloss\n",
    "from loadspec import load_data\n",
    "from train_visual import train\n",
    "from preprocess import RawDataset,SpecDataset, BucketSampler, train_preprocess, test_preprocess\n",
    "seed=Generator()"
   ]
  },
  {
   "cell_type": "code",
   "execution_count": 3,
   "id": "62b92566-cbe3-4160-93aa-8f8d2df7b161",
   "metadata": {},
   "outputs": [
    {
     "name": "stdout",
     "output_type": "stream",
     "text": [
      "Total spectra: 54814 Valid spectra: 51790\n",
      "Total spectra: 11665 Valid spectra: 11079\n",
      "data loaded. Time: 0:00:05.248480\n"
     ]
    }
   ],
   "source": [
    "%%time\n",
    "#train_data=load_data(\"data/cross_valid/cross.cat.mgf.train.repeat\")\n",
    "#val_data=load_data(\"data/cross_valid/cross.cat.mgf.valid.repeat\")\n",
    "train_data = load_data(\"data/human_high/peaks.db.mgf.train.unshared\")\n",
    "val_data = load_data(\"data/human_high/peaks.db.mgf.valid.unshared\")"
   ]
  },
  {
   "cell_type": "code",
   "execution_count": 6,
   "id": "964689b4",
   "metadata": {},
   "outputs": [
    {
     "name": "stdout",
     "output_type": "stream",
     "text": [
      "padded length: 12\tbucket size: 9851\tbatch count: 76\n",
      "padded length: 17\tbucket size: 20604\tbatch count: 160\n",
      "padded length: 22\tbucket size: 12971\tbatch count: 101\n",
      "padded length: 32\tbucket size: 8364\tbatch count: 65\n",
      "total spectra: 51790\ttotal batch: 402\n",
      "padded length: 12\tbucket size: 2223\tbatch count: 17\n",
      "padded length: 17\tbucket size: 4332\tbatch count: 33\n",
      "padded length: 22\tbucket size: 2656\tbatch count: 20\n",
      "padded length: 32\tbucket size: 1868\tbatch count: 14\n",
      "total spectra: 11079\ttotal batch: 84\n"
     ]
    }
   ],
   "source": [
    "train_set = RawDataset(train_data)\n",
    "val_set = RawDataset(val_data)\n",
    "\n",
    "train_sampler = BucketSampler(data_source=train_set,\n",
    "                              batch_size=config.BATCH_SIZE, buckets=config._buckets,generator=seed)\n",
    "train_loader=DataLoader(train_set,batch_sampler=train_sampler,collate_fn=train_preprocess,num_workers=6)\n",
    "val_sampler = BucketSampler(data_source=val_set,\n",
    "                              batch_size=config.BATCH_SIZE, buckets=config._buckets,shuffle=False)\n",
    "val_loader=DataLoader(val_set,batch_sampler=val_sampler,collate_fn=train_preprocess,num_workers=6)"
   ]
  },
  {
   "cell_type": "code",
   "execution_count": 4,
   "id": "9468373c-f37a-45f9-8a0c-abcae4be69a6",
   "metadata": {},
   "outputs": [],
   "source": [
    "train_model=Model(direction=2,lr=0.0005).to(device=config.device)\n",
    "#checkpoint=torch.load('./ckpt/human_unshared_50000/default_backward.pth')\n",
    "#train_model.load_state_dict(checkpoint[\"model\"])\n",
    "#train_model.opt.load_state_dict(checkpoint[\"optimizer\"])\n",
    "lr_scheduler=StepLR(train_model.opt,step_size=20,gamma=0.5)\n",
    "#train_model=res_model.Model(direction=2,lr=0.001).to(device=config.device)"
   ]
  },
  {
   "cell_type": "code",
   "execution_count": 6,
   "id": "d7920949-cbf2-41a4-90ff-df6a02ff4b6d",
   "metadata": {},
   "outputs": [],
   "source": [
    "for name,param in train_model.named_parameters():\n",
    "    if \"backward\" in name:\n",
    "        param.requires_grad=True\n",
    "    else:\n",
    "        param.requires_grad=False"
   ]
  },
  {
   "cell_type": "code",
   "execution_count": 7,
   "id": "63e47116-7657-4fb5-be1f-85f30e6b84c7",
   "metadata": {},
   "outputs": [
    {
     "name": "stderr",
     "output_type": "stream",
     "text": [
      "  0%|                                                                                                                    | 0/100 [00:00<?, ?it/s]/home/zhuyy/.conda/envs/torch/lib/python3.8/site-packages/torch/nn/modules/conv.py:453: UserWarning: Using padding='same' with even kernel lengths and odd dilation may require a zero-padded copy of the input be created (Triggered internally at  /home/conda/feedstock_root/build_artifacts/pytorch-recipe_1660081234118/work/aten/src/ATen/native/Convolution.cpp:883.)\n",
      "  return F.conv2d(input, weight, bias, self.stride,\n",
      "  1%|█                                                                                                        | 1/100 [02:00<3:19:31, 120.93s/it]"
     ]
    },
    {
     "name": "stdout",
     "output_type": "stream",
     "text": [
      "epoch: 197\ttime: 0:01:57.524878\n",
      "            train_loss: 2.0734\ttrain_precision: 0.3756\ttrain_recall: 0.3707\n",
      "            val_loss: 2.3020\tval_precision: 0.3093\tval_recall:0.3919\n",
      "            best_epoch: 196\tloss: 2.3020\tpre: 0.3093\trec: 0.3919\n"
     ]
    },
    {
     "name": "stderr",
     "output_type": "stream",
     "text": [
      "  2%|██                                                                                                       | 2/100 [04:02<3:18:14, 121.38s/it]"
     ]
    },
    {
     "name": "stdout",
     "output_type": "stream",
     "text": [
      "epoch: 198\ttime: 0:02:00.655615\n",
      "            train_loss: 2.0724\ttrain_precision: 0.3761\ttrain_recall: 0.3714\n",
      "            val_loss: 2.3027\tval_precision: 0.3094\tval_recall:0.3920\n",
      "            best_epoch: 196\tloss: 2.3020\tpre: 0.3093\trec: 0.3919\n"
     ]
    },
    {
     "name": "stderr",
     "output_type": "stream",
     "text": [
      "  3%|███▏                                                                                                     | 3/100 [05:55<3:10:05, 117.58s/it]"
     ]
    },
    {
     "name": "stdout",
     "output_type": "stream",
     "text": [
      "epoch: 199\ttime: 0:01:51.947603\n",
      "            train_loss: 2.0694\ttrain_precision: 0.3766\ttrain_recall: 0.3717\n",
      "            val_loss: 2.3021\tval_precision: 0.3093\tval_recall:0.3919\n",
      "            best_epoch: 196\tloss: 2.3020\tpre: 0.3093\trec: 0.3919\n"
     ]
    },
    {
     "name": "stderr",
     "output_type": "stream",
     "text": [
      "  4%|████▏                                                                                                    | 4/100 [07:50<3:06:30, 116.56s/it]"
     ]
    },
    {
     "name": "stdout",
     "output_type": "stream",
     "text": [
      "epoch: 200\ttime: 0:01:53.625839\n",
      "            train_loss: 2.0704\ttrain_precision: 0.3765\ttrain_recall: 0.3717\n",
      "            val_loss: 2.3025\tval_precision: 0.3092\tval_recall:0.3917\n",
      "            best_epoch: 196\tloss: 2.3020\tpre: 0.3093\trec: 0.3919\n",
      "epoch: 201\ttime: 0:01:57.125408\n",
      "            train_loss: 2.0702\ttrain_precision: 0.3766\ttrain_recall: 0.3718\n",
      "            val_loss: 2.3023\tval_precision: 0.3094\tval_recall:0.3918\n",
      "            best_epoch: 196\tloss: 2.3020\tpre: 0.3093\trec: 0.3919\n"
     ]
    },
    {
     "name": "stderr",
     "output_type": "stream",
     "text": [
      "  6%|██████▎                                                                                                  | 6/100 [11:45<3:02:53, 116.74s/it]"
     ]
    },
    {
     "name": "stdout",
     "output_type": "stream",
     "text": [
      "epoch: 202\ttime: 0:01:52.011402\n",
      "            train_loss: 2.0717\ttrain_precision: 0.3767\ttrain_recall: 0.3712\n",
      "            val_loss: 2.3015\tval_precision: 0.3095\tval_recall:0.3919\n",
      "            best_epoch: 201\tloss: 2.3015\tpre: 0.3095\trec: 0.3919\n"
     ]
    },
    {
     "name": "stderr",
     "output_type": "stream",
     "text": [
      "  7%|███████▎                                                                                                 | 7/100 [13:49<3:04:45, 119.20s/it]"
     ]
    },
    {
     "name": "stdout",
     "output_type": "stream",
     "text": [
      "epoch: 203\ttime: 0:02:02.509324\n",
      "            train_loss: 2.0702\ttrain_precision: 0.3774\ttrain_recall: 0.3721\n",
      "            val_loss: 2.3024\tval_precision: 0.3093\tval_recall:0.3917\n",
      "            best_epoch: 201\tloss: 2.3015\tpre: 0.3095\trec: 0.3919\n"
     ]
    },
    {
     "name": "stderr",
     "output_type": "stream",
     "text": [
      "  8%|████████▍                                                                                                | 8/100 [15:42<2:59:39, 117.17s/it]"
     ]
    },
    {
     "name": "stdout",
     "output_type": "stream",
     "text": [
      "epoch: 204\ttime: 0:01:51.496196\n",
      "            train_loss: 2.0727\ttrain_precision: 0.3765\ttrain_recall: 0.3714\n",
      "            val_loss: 2.3025\tval_precision: 0.3094\tval_recall:0.3918\n",
      "            best_epoch: 201\tloss: 2.3015\tpre: 0.3095\trec: 0.3919\n"
     ]
    },
    {
     "name": "stderr",
     "output_type": "stream",
     "text": [
      "  9%|█████████▍                                                                                               | 9/100 [17:35<2:55:48, 115.92s/it]"
     ]
    },
    {
     "name": "stdout",
     "output_type": "stream",
     "text": [
      "epoch: 205\ttime: 0:01:52.235094\n",
      "            train_loss: 2.0701\ttrain_precision: 0.3771\ttrain_recall: 0.3719\n",
      "            val_loss: 2.3017\tval_precision: 0.3093\tval_recall:0.3917\n",
      "            best_epoch: 201\tloss: 2.3015\tpre: 0.3095\trec: 0.3919\n"
     ]
    },
    {
     "name": "stderr",
     "output_type": "stream",
     "text": [
      " 10%|██████████▍                                                                                             | 10/100 [19:37<2:57:00, 118.01s/it]"
     ]
    },
    {
     "name": "stdout",
     "output_type": "stream",
     "text": [
      "epoch: 206\ttime: 0:01:59.541815\n",
      "            train_loss: 2.0699\ttrain_precision: 0.3770\ttrain_recall: 0.3719\n",
      "            val_loss: 2.3013\tval_precision: 0.3095\tval_recall:0.3920\n",
      "            best_epoch: 205\tloss: 2.3013\tpre: 0.3095\trec: 0.3920\n"
     ]
    },
    {
     "name": "stderr",
     "output_type": "stream",
     "text": [
      " 11%|███████████▍                                                                                            | 11/100 [21:33<2:53:56, 117.27s/it]"
     ]
    },
    {
     "name": "stdout",
     "output_type": "stream",
     "text": [
      "epoch: 207\ttime: 0:01:51.613335\n",
      "            train_loss: 2.0721\ttrain_precision: 0.3767\ttrain_recall: 0.3712\n",
      "            val_loss: 2.3013\tval_precision: 0.3096\tval_recall:0.3921\n",
      "            best_epoch: 206\tloss: 2.3013\tpre: 0.3096\trec: 0.3921\n"
     ]
    },
    {
     "name": "stderr",
     "output_type": "stream",
     "text": [
      " 12%|████████████▍                                                                                           | 12/100 [23:31<2:52:12, 117.42s/it]"
     ]
    },
    {
     "name": "stdout",
     "output_type": "stream",
     "text": [
      "epoch: 208\ttime: 0:01:56.426386\n",
      "            train_loss: 2.0704\ttrain_precision: 0.3769\ttrain_recall: 0.3715\n",
      "            val_loss: 2.3028\tval_precision: 0.3098\tval_recall:0.3922\n",
      "            best_epoch: 206\tloss: 2.3013\tpre: 0.3096\trec: 0.3921\n"
     ]
    },
    {
     "name": "stderr",
     "output_type": "stream",
     "text": [
      " 13%|█████████████▌                                                                                          | 13/100 [25:22<2:47:23, 115.45s/it]"
     ]
    },
    {
     "name": "stdout",
     "output_type": "stream",
     "text": [
      "epoch: 209\ttime: 0:01:48.752568\n",
      "            train_loss: 2.0714\ttrain_precision: 0.3769\ttrain_recall: 0.3710\n",
      "            val_loss: 2.3023\tval_precision: 0.3096\tval_recall:0.3920\n",
      "            best_epoch: 206\tloss: 2.3013\tpre: 0.3096\trec: 0.3921\n"
     ]
    },
    {
     "name": "stderr",
     "output_type": "stream",
     "text": [
      " 14%|██████████████▌                                                                                         | 14/100 [27:14<2:44:02, 114.45s/it]"
     ]
    },
    {
     "name": "stdout",
     "output_type": "stream",
     "text": [
      "epoch: 210\ttime: 0:01:51.290678\n",
      "            train_loss: 2.0688\ttrain_precision: 0.3778\ttrain_recall: 0.3721\n",
      "            val_loss: 2.3024\tval_precision: 0.3097\tval_recall:0.3920\n",
      "            best_epoch: 206\tloss: 2.3013\tpre: 0.3096\trec: 0.3921\n"
     ]
    },
    {
     "name": "stderr",
     "output_type": "stream",
     "text": [
      " 15%|███████████████▌                                                                                        | 15/100 [29:14<2:44:30, 116.12s/it]"
     ]
    },
    {
     "name": "stdout",
     "output_type": "stream",
     "text": [
      "epoch: 211\ttime: 0:01:56.012042\n",
      "            train_loss: 2.0692\ttrain_precision: 0.3776\ttrain_recall: 0.3719\n",
      "            val_loss: 2.3012\tval_precision: 0.3097\tval_recall:0.3920\n",
      "            best_epoch: 210\tloss: 2.3012\tpre: 0.3097\trec: 0.3920\n"
     ]
    },
    {
     "name": "stderr",
     "output_type": "stream",
     "text": [
      " 16%|████████████████▋                                                                                       | 16/100 [30:58<2:37:19, 112.37s/it]"
     ]
    },
    {
     "name": "stdout",
     "output_type": "stream",
     "text": [
      "epoch: 212\ttime: 0:01:42.618194\n",
      "            train_loss: 2.0682\ttrain_precision: 0.3777\ttrain_recall: 0.3723\n",
      "            val_loss: 2.3018\tval_precision: 0.3099\tval_recall:0.3922\n",
      "            best_epoch: 210\tloss: 2.3012\tpre: 0.3097\trec: 0.3920\n"
     ]
    },
    {
     "name": "stderr",
     "output_type": "stream",
     "text": [
      " 17%|█████████████████▋                                                                                      | 17/100 [32:58<2:38:57, 114.91s/it]"
     ]
    },
    {
     "name": "stdout",
     "output_type": "stream",
     "text": [
      "epoch: 213\ttime: 0:01:58.412100\n",
      "            train_loss: 2.0706\ttrain_precision: 0.3775\ttrain_recall: 0.3716\n",
      "            val_loss: 2.3011\tval_precision: 0.3099\tval_recall:0.3922\n",
      "            best_epoch: 212\tloss: 2.3011\tpre: 0.3099\trec: 0.3922\n"
     ]
    },
    {
     "name": "stderr",
     "output_type": "stream",
     "text": [
      " 18%|██████████████████▋                                                                                     | 18/100 [34:44<2:33:16, 112.15s/it]"
     ]
    },
    {
     "name": "stdout",
     "output_type": "stream",
     "text": [
      "epoch: 214\ttime: 0:01:42.821175\n",
      "            train_loss: 2.0688\ttrain_precision: 0.3781\ttrain_recall: 0.3723\n",
      "            val_loss: 2.3003\tval_precision: 0.3101\tval_recall:0.3924\n",
      "            best_epoch: 213\tloss: 2.3003\tpre: 0.3101\trec: 0.3924\n"
     ]
    },
    {
     "name": "stderr",
     "output_type": "stream",
     "text": [
      " 19%|███████████████████▊                                                                                    | 19/100 [36:41<2:33:09, 113.45s/it]"
     ]
    },
    {
     "name": "stdout",
     "output_type": "stream",
     "text": [
      "epoch: 215\ttime: 0:01:55.615086\n",
      "            train_loss: 2.0697\ttrain_precision: 0.3781\ttrain_recall: 0.3723\n",
      "            val_loss: 2.3017\tval_precision: 0.3096\tval_recall:0.3919\n",
      "            best_epoch: 213\tloss: 2.3003\tpre: 0.3101\trec: 0.3924\n"
     ]
    },
    {
     "name": "stderr",
     "output_type": "stream",
     "text": [
      " 20%|████████████████████▊                                                                                   | 20/100 [37:51<2:13:56, 100.46s/it]"
     ]
    },
    {
     "name": "stdout",
     "output_type": "stream",
     "text": [
      "epoch: 216\ttime: 0:01:08.907320\n",
      "            train_loss: 2.0699\ttrain_precision: 0.3777\ttrain_recall: 0.3718\n",
      "            val_loss: 2.3007\tval_precision: 0.3097\tval_recall:0.3919\n",
      "            best_epoch: 213\tloss: 2.3003\tpre: 0.3101\trec: 0.3924\n"
     ]
    },
    {
     "name": "stderr",
     "output_type": "stream",
     "text": [
      " 21%|█████████████████████▊                                                                                  | 21/100 [39:53<2:20:51, 106.98s/it]"
     ]
    },
    {
     "name": "stdout",
     "output_type": "stream",
     "text": [
      "epoch: 217\ttime: 0:02:00.172121\n",
      "            train_loss: 2.0700\ttrain_precision: 0.3777\ttrain_recall: 0.3716\n",
      "            val_loss: 2.3006\tval_precision: 0.3097\tval_recall:0.3918\n",
      "            best_epoch: 213\tloss: 2.3003\tpre: 0.3101\trec: 0.3924\n"
     ]
    },
    {
     "name": "stderr",
     "output_type": "stream",
     "text": [
      " 22%|██████████████████████▉                                                                                 | 22/100 [41:55<2:25:03, 111.58s/it]"
     ]
    },
    {
     "name": "stdout",
     "output_type": "stream",
     "text": [
      "epoch: 218\ttime: 0:02:00.911455\n",
      "            train_loss: 2.0689\ttrain_precision: 0.3777\ttrain_recall: 0.3716\n",
      "            val_loss: 2.3008\tval_precision: 0.3098\tval_recall:0.3920\n",
      "            best_epoch: 213\tloss: 2.3003\tpre: 0.3101\trec: 0.3924\n"
     ]
    },
    {
     "name": "stderr",
     "output_type": "stream",
     "text": [
      " 23%|███████████████████████▉                                                                                | 23/100 [44:01<2:28:50, 115.98s/it]"
     ]
    },
    {
     "name": "stdout",
     "output_type": "stream",
     "text": [
      "epoch: 219\ttime: 0:02:04.494213\n",
      "            train_loss: 2.0684\ttrain_precision: 0.3780\ttrain_recall: 0.3719\n",
      "            val_loss: 2.3008\tval_precision: 0.3099\tval_recall:0.3921\n",
      "            best_epoch: 213\tloss: 2.3003\tpre: 0.3101\trec: 0.3924\n"
     ]
    },
    {
     "name": "stderr",
     "output_type": "stream",
     "text": [
      " 24%|████████████████████████▉                                                                               | 24/100 [46:05<2:29:36, 118.12s/it]"
     ]
    },
    {
     "name": "stdout",
     "output_type": "stream",
     "text": [
      "epoch: 220\ttime: 0:02:01.944037\n",
      "            train_loss: 2.0686\ttrain_precision: 0.3780\ttrain_recall: 0.3721\n",
      "            val_loss: 2.3013\tval_precision: 0.3100\tval_recall:0.3922\n",
      "            best_epoch: 213\tloss: 2.3003\tpre: 0.3101\trec: 0.3924\n",
      "epoch: 221\ttime: 0:02:05.234487\n",
      "            train_loss: 2.0696\ttrain_precision: 0.3777\ttrain_recall: 0.3716\n",
      "            val_loss: 2.3013\tval_precision: 0.3099\tval_recall:0.3920\n",
      "            best_epoch: 213\tloss: 2.3003\tpre: 0.3101\trec: 0.3924\n"
     ]
    },
    {
     "name": "stderr",
     "output_type": "stream",
     "text": [
      " 26%|███████████████████████████                                                                             | 26/100 [50:16<2:30:11, 121.78s/it]"
     ]
    },
    {
     "name": "stdout",
     "output_type": "stream",
     "text": [
      "epoch: 222\ttime: 0:02:03.012968\n",
      "            train_loss: 2.0688\ttrain_precision: 0.3779\ttrain_recall: 0.3715\n",
      "            val_loss: 2.3007\tval_precision: 0.3101\tval_recall:0.3922\n",
      "            best_epoch: 213\tloss: 2.3003\tpre: 0.3101\trec: 0.3924\n"
     ]
    },
    {
     "name": "stderr",
     "output_type": "stream",
     "text": [
      " 27%|████████████████████████████                                                                            | 27/100 [52:25<2:30:59, 124.10s/it]"
     ]
    },
    {
     "name": "stdout",
     "output_type": "stream",
     "text": [
      "epoch: 223\ttime: 0:02:05.832320\n",
      "            train_loss: 2.0677\ttrain_precision: 0.3784\ttrain_recall: 0.3726\n",
      "            val_loss: 2.3001\tval_precision: 0.3100\tval_recall:0.3923\n",
      "            best_epoch: 222\tloss: 2.3001\tpre: 0.3100\trec: 0.3923\n"
     ]
    },
    {
     "name": "stderr",
     "output_type": "stream",
     "text": [
      " 28%|█████████████████████████████                                                                           | 28/100 [54:27<2:28:06, 123.42s/it]"
     ]
    },
    {
     "name": "stdout",
     "output_type": "stream",
     "text": [
      "epoch: 224\ttime: 0:02:00.639437\n",
      "            train_loss: 2.0677\ttrain_precision: 0.3784\ttrain_recall: 0.3724\n",
      "            val_loss: 2.3003\tval_precision: 0.3103\tval_recall:0.3924\n",
      "            best_epoch: 222\tloss: 2.3001\tpre: 0.3100\trec: 0.3923\n"
     ]
    },
    {
     "name": "stderr",
     "output_type": "stream",
     "text": [
      " 29%|██████████████████████████████▏                                                                         | 29/100 [56:33<2:26:51, 124.10s/it]"
     ]
    },
    {
     "name": "stdout",
     "output_type": "stream",
     "text": [
      "epoch: 225\ttime: 0:02:03.662432\n",
      "            train_loss: 2.0677\ttrain_precision: 0.3782\ttrain_recall: 0.3721\n",
      "            val_loss: 2.3007\tval_precision: 0.3103\tval_recall:0.3925\n",
      "            best_epoch: 222\tloss: 2.3001\tpre: 0.3100\trec: 0.3923\n"
     ]
    },
    {
     "name": "stderr",
     "output_type": "stream",
     "text": [
      " 30%|███████████████████████████████▏                                                                        | 30/100 [58:39<2:25:37, 124.82s/it]"
     ]
    },
    {
     "name": "stdout",
     "output_type": "stream",
     "text": [
      "epoch: 226\ttime: 0:02:04.474034\n",
      "            train_loss: 2.0681\ttrain_precision: 0.3786\ttrain_recall: 0.3721\n",
      "            val_loss: 2.3009\tval_precision: 0.3104\tval_recall:0.3924\n",
      "            best_epoch: 222\tloss: 2.3001\tpre: 0.3100\trec: 0.3923\n"
     ]
    },
    {
     "name": "stderr",
     "output_type": "stream",
     "text": [
      " 31%|███████████████████████████████▌                                                                      | 31/100 [1:00:49<2:25:24, 126.44s/it]"
     ]
    },
    {
     "name": "stdout",
     "output_type": "stream",
     "text": [
      "epoch: 227\ttime: 0:02:08.591533\n",
      "            train_loss: 2.0669\ttrain_precision: 0.3788\ttrain_recall: 0.3726\n",
      "            val_loss: 2.3003\tval_precision: 0.3101\tval_recall:0.3923\n",
      "            best_epoch: 222\tloss: 2.3001\tpre: 0.3100\trec: 0.3923\n"
     ]
    },
    {
     "name": "stderr",
     "output_type": "stream",
     "text": [
      " 32%|████████████████████████████████▋                                                                     | 32/100 [1:02:55<2:23:09, 126.31s/it]"
     ]
    },
    {
     "name": "stdout",
     "output_type": "stream",
     "text": [
      "epoch: 228\ttime: 0:02:02.594476\n",
      "            train_loss: 2.0666\ttrain_precision: 0.3789\ttrain_recall: 0.3728\n",
      "            val_loss: 2.3000\tval_precision: 0.3102\tval_recall:0.3924\n",
      "            best_epoch: 227\tloss: 2.3000\tpre: 0.3102\trec: 0.3924\n"
     ]
    },
    {
     "name": "stderr",
     "output_type": "stream",
     "text": [
      " 33%|█████████████████████████████████▋                                                                    | 33/100 [1:04:58<2:19:39, 125.06s/it]"
     ]
    },
    {
     "name": "stdout",
     "output_type": "stream",
     "text": [
      "epoch: 229\ttime: 0:02:00.956464\n",
      "            train_loss: 2.0653\ttrain_precision: 0.3793\ttrain_recall: 0.3732\n",
      "            val_loss: 2.3002\tval_precision: 0.3102\tval_recall:0.3924\n",
      "            best_epoch: 227\tloss: 2.3000\tpre: 0.3102\trec: 0.3924\n"
     ]
    },
    {
     "name": "stderr",
     "output_type": "stream",
     "text": [
      " 34%|██████████████████████████████████▋                                                                   | 34/100 [1:07:01<2:17:03, 124.60s/it]"
     ]
    },
    {
     "name": "stdout",
     "output_type": "stream",
     "text": [
      "epoch: 230\ttime: 0:02:02.377272\n",
      "            train_loss: 2.0678\ttrain_precision: 0.3779\ttrain_recall: 0.3720\n",
      "            val_loss: 2.3007\tval_precision: 0.3102\tval_recall:0.3924\n",
      "            best_epoch: 227\tloss: 2.3000\tpre: 0.3102\trec: 0.3924\n"
     ]
    },
    {
     "name": "stderr",
     "output_type": "stream",
     "text": [
      " 35%|███████████████████████████████████▋                                                                  | 35/100 [1:09:04<2:14:31, 124.18s/it]"
     ]
    },
    {
     "name": "stdout",
     "output_type": "stream",
     "text": [
      "epoch: 231\ttime: 0:02:01.987146\n",
      "            train_loss: 2.0670\ttrain_precision: 0.3785\ttrain_recall: 0.3723\n",
      "            val_loss: 2.3002\tval_precision: 0.3103\tval_recall:0.3924\n",
      "            best_epoch: 227\tloss: 2.3000\tpre: 0.3102\trec: 0.3924\n"
     ]
    },
    {
     "name": "stderr",
     "output_type": "stream",
     "text": [
      " 36%|████████████████████████████████████▋                                                                 | 36/100 [1:11:10<2:13:01, 124.71s/it]"
     ]
    },
    {
     "name": "stdout",
     "output_type": "stream",
     "text": [
      "epoch: 232\ttime: 0:02:04.696353\n",
      "            train_loss: 2.0679\ttrain_precision: 0.3785\ttrain_recall: 0.3722\n",
      "            val_loss: 2.3002\tval_precision: 0.3104\tval_recall:0.3926\n",
      "            best_epoch: 227\tloss: 2.3000\tpre: 0.3102\trec: 0.3924\n"
     ]
    },
    {
     "name": "stderr",
     "output_type": "stream",
     "text": [
      " 37%|█████████████████████████████████████▋                                                                | 37/100 [1:13:17<2:11:35, 125.32s/it]"
     ]
    },
    {
     "name": "stdout",
     "output_type": "stream",
     "text": [
      "epoch: 233\ttime: 0:02:04.535692\n",
      "            train_loss: 2.0687\ttrain_precision: 0.3779\ttrain_recall: 0.3716\n",
      "            val_loss: 2.3004\tval_precision: 0.3104\tval_recall:0.3925\n",
      "            best_epoch: 227\tloss: 2.3000\tpre: 0.3102\trec: 0.3924\n"
     ]
    },
    {
     "name": "stderr",
     "output_type": "stream",
     "text": [
      " 38%|██████████████████████████████████████▊                                                               | 38/100 [1:15:24<2:09:56, 125.75s/it]"
     ]
    },
    {
     "name": "stdout",
     "output_type": "stream",
     "text": [
      "epoch: 234\ttime: 0:02:04.843286\n",
      "            train_loss: 2.0654\ttrain_precision: 0.3791\ttrain_recall: 0.3727\n",
      "            val_loss: 2.3001\tval_precision: 0.3102\tval_recall:0.3923\n",
      "            best_epoch: 227\tloss: 2.3000\tpre: 0.3102\trec: 0.3924\n"
     ]
    },
    {
     "name": "stderr",
     "output_type": "stream",
     "text": [
      " 39%|███████████████████████████████████████▊                                                              | 39/100 [1:17:31<2:08:10, 126.08s/it]"
     ]
    },
    {
     "name": "stdout",
     "output_type": "stream",
     "text": [
      "epoch: 235\ttime: 0:02:05.565058\n",
      "            train_loss: 2.0673\ttrain_precision: 0.3788\ttrain_recall: 0.3725\n",
      "            val_loss: 2.3005\tval_precision: 0.3103\tval_recall:0.3924\n",
      "            best_epoch: 227\tloss: 2.3000\tpre: 0.3102\trec: 0.3924\n"
     ]
    },
    {
     "name": "stderr",
     "output_type": "stream",
     "text": [
      " 40%|████████████████████████████████████████▊                                                             | 40/100 [1:19:36<2:05:56, 125.94s/it]"
     ]
    },
    {
     "name": "stdout",
     "output_type": "stream",
     "text": [
      "epoch: 236\ttime: 0:02:03.541917\n",
      "            train_loss: 2.0667\ttrain_precision: 0.3790\ttrain_recall: 0.3727\n",
      "            val_loss: 2.3008\tval_precision: 0.3103\tval_recall:0.3924\n",
      "            best_epoch: 227\tloss: 2.3000\tpre: 0.3102\trec: 0.3924\n"
     ]
    },
    {
     "name": "stderr",
     "output_type": "stream",
     "text": [
      " 41%|█████████████████████████████████████████▊                                                            | 41/100 [1:21:41<2:03:29, 125.59s/it]"
     ]
    },
    {
     "name": "stdout",
     "output_type": "stream",
     "text": [
      "epoch: 237\ttime: 0:02:02.955280\n",
      "            train_loss: 2.0679\ttrain_precision: 0.3789\ttrain_recall: 0.3721\n",
      "            val_loss: 2.3004\tval_precision: 0.3103\tval_recall:0.3924\n",
      "            best_epoch: 227\tloss: 2.3000\tpre: 0.3102\trec: 0.3924\n"
     ]
    },
    {
     "name": "stderr",
     "output_type": "stream",
     "text": [
      " 42%|██████████████████████████████████████████▊                                                           | 42/100 [1:23:43<2:00:24, 124.55s/it]"
     ]
    },
    {
     "name": "stdout",
     "output_type": "stream",
     "text": [
      "epoch: 238\ttime: 0:02:00.135607\n",
      "            train_loss: 2.0674\ttrain_precision: 0.3785\ttrain_recall: 0.3723\n",
      "            val_loss: 2.3002\tval_precision: 0.3104\tval_recall:0.3926\n",
      "            best_epoch: 227\tloss: 2.3000\tpre: 0.3102\trec: 0.3924\n"
     ]
    },
    {
     "name": "stderr",
     "output_type": "stream",
     "text": [
      " 43%|███████████████████████████████████████████▊                                                          | 43/100 [1:25:46<1:57:44, 123.94s/it]"
     ]
    },
    {
     "name": "stdout",
     "output_type": "stream",
     "text": [
      "epoch: 239\ttime: 0:02:00.646189\n",
      "            train_loss: 2.0671\ttrain_precision: 0.3785\ttrain_recall: 0.3719\n",
      "            val_loss: 2.3006\tval_precision: 0.3103\tval_recall:0.3924\n",
      "            best_epoch: 227\tloss: 2.3000\tpre: 0.3102\trec: 0.3924\n"
     ]
    },
    {
     "name": "stderr",
     "output_type": "stream",
     "text": [
      " 44%|████████████████████████████████████████████▉                                                         | 44/100 [1:27:52<1:56:15, 124.57s/it]"
     ]
    },
    {
     "name": "stdout",
     "output_type": "stream",
     "text": [
      "epoch: 240\ttime: 0:02:04.593474\n",
      "            train_loss: 2.0671\ttrain_precision: 0.3789\ttrain_recall: 0.3723\n",
      "            val_loss: 2.3002\tval_precision: 0.3102\tval_recall:0.3923\n",
      "            best_epoch: 227\tloss: 2.3000\tpre: 0.3102\trec: 0.3924\n",
      "epoch: 241\ttime: 0:02:03.745634\n",
      "            train_loss: 2.0655\ttrain_precision: 0.3791\ttrain_recall: 0.3727\n",
      "            val_loss: 2.3002\tval_precision: 0.3103\tval_recall:0.3923\n",
      "            best_epoch: 227\tloss: 2.3000\tpre: 0.3102\trec: 0.3924\n"
     ]
    },
    {
     "name": "stderr",
     "output_type": "stream",
     "text": [
      " 46%|██████████████████████████████████████████████▉                                                       | 46/100 [1:32:03<1:52:35, 125.11s/it]"
     ]
    },
    {
     "name": "stdout",
     "output_type": "stream",
     "text": [
      "epoch: 242\ttime: 0:02:03.426265\n",
      "            train_loss: 2.0671\ttrain_precision: 0.3789\ttrain_recall: 0.3723\n",
      "            val_loss: 2.3003\tval_precision: 0.3102\tval_recall:0.3923\n",
      "            best_epoch: 227\tloss: 2.3000\tpre: 0.3102\trec: 0.3924\n"
     ]
    },
    {
     "name": "stderr",
     "output_type": "stream",
     "text": [
      " 47%|███████████████████████████████████████████████▉                                                      | 47/100 [1:34:05<1:49:36, 124.08s/it]"
     ]
    },
    {
     "name": "stdout",
     "output_type": "stream",
     "text": [
      "epoch: 243\ttime: 0:02:00.224476\n",
      "            train_loss: 2.0661\ttrain_precision: 0.3790\ttrain_recall: 0.3724\n",
      "            val_loss: 2.3002\tval_precision: 0.3103\tval_recall:0.3924\n",
      "            best_epoch: 227\tloss: 2.3000\tpre: 0.3102\trec: 0.3924\n"
     ]
    },
    {
     "name": "stderr",
     "output_type": "stream",
     "text": [
      " 48%|████████████████████████████████████████████████▉                                                     | 48/100 [1:36:10<1:47:45, 124.34s/it]"
     ]
    },
    {
     "name": "stdout",
     "output_type": "stream",
     "text": [
      "epoch: 244\ttime: 0:02:01.526301\n",
      "            train_loss: 2.0648\ttrain_precision: 0.3793\ttrain_recall: 0.3728\n",
      "            val_loss: 2.2997\tval_precision: 0.3104\tval_recall:0.3925\n",
      "            best_epoch: 243\tloss: 2.2997\tpre: 0.3104\trec: 0.3925\n"
     ]
    },
    {
     "name": "stderr",
     "output_type": "stream",
     "text": [
      " 49%|█████████████████████████████████████████████████▉                                                    | 49/100 [1:38:22<1:47:48, 126.83s/it]"
     ]
    },
    {
     "name": "stdout",
     "output_type": "stream",
     "text": [
      "epoch: 245\ttime: 0:02:10.925533\n",
      "            train_loss: 2.0650\ttrain_precision: 0.3796\ttrain_recall: 0.3730\n",
      "            val_loss: 2.3002\tval_precision: 0.3103\tval_recall:0.3924\n",
      "            best_epoch: 243\tloss: 2.2997\tpre: 0.3104\trec: 0.3925\n"
     ]
    },
    {
     "name": "stderr",
     "output_type": "stream",
     "text": [
      " 50%|███████████████████████████████████████████████████                                                   | 50/100 [1:40:27<1:45:12, 126.26s/it]"
     ]
    },
    {
     "name": "stdout",
     "output_type": "stream",
     "text": [
      "epoch: 246\ttime: 0:02:03.710977\n",
      "            train_loss: 2.0662\ttrain_precision: 0.3791\ttrain_recall: 0.3725\n",
      "            val_loss: 2.3002\tval_precision: 0.3104\tval_recall:0.3924\n",
      "            best_epoch: 243\tloss: 2.2997\tpre: 0.3104\trec: 0.3925\n"
     ]
    },
    {
     "name": "stderr",
     "output_type": "stream",
     "text": [
      " 51%|████████████████████████████████████████████████████                                                  | 51/100 [1:42:31<1:42:21, 125.34s/it]"
     ]
    },
    {
     "name": "stdout",
     "output_type": "stream",
     "text": [
      "epoch: 247\ttime: 0:02:01.557585\n",
      "            train_loss: 2.0672\ttrain_precision: 0.3786\ttrain_recall: 0.3722\n",
      "            val_loss: 2.3000\tval_precision: 0.3104\tval_recall:0.3924\n",
      "            best_epoch: 243\tloss: 2.2997\tpre: 0.3104\trec: 0.3925\n"
     ]
    },
    {
     "name": "stderr",
     "output_type": "stream",
     "text": [
      " 52%|█████████████████████████████████████████████████████                                                 | 52/100 [1:44:33<1:39:41, 124.62s/it]"
     ]
    },
    {
     "name": "stdout",
     "output_type": "stream",
     "text": [
      "epoch: 248\ttime: 0:02:00.518213\n",
      "            train_loss: 2.0665\ttrain_precision: 0.3793\ttrain_recall: 0.3726\n",
      "            val_loss: 2.3000\tval_precision: 0.3104\tval_recall:0.3924\n",
      "            best_epoch: 243\tloss: 2.2997\tpre: 0.3104\trec: 0.3925\n"
     ]
    },
    {
     "name": "stderr",
     "output_type": "stream",
     "text": [
      " 53%|██████████████████████████████████████████████████████                                                | 53/100 [1:46:41<1:38:12, 125.36s/it]"
     ]
    },
    {
     "name": "stdout",
     "output_type": "stream",
     "text": [
      "epoch: 249\ttime: 0:02:02.767030\n",
      "            train_loss: 2.0637\ttrain_precision: 0.3794\ttrain_recall: 0.3729\n",
      "            val_loss: 2.2996\tval_precision: 0.3103\tval_recall:0.3924\n",
      "            best_epoch: 248\tloss: 2.2996\tpre: 0.3103\trec: 0.3924\n"
     ]
    },
    {
     "name": "stderr",
     "output_type": "stream",
     "text": [
      " 54%|███████████████████████████████████████████████████████                                               | 54/100 [1:48:43<1:35:24, 124.44s/it]"
     ]
    },
    {
     "name": "stdout",
     "output_type": "stream",
     "text": [
      "epoch: 250\ttime: 0:01:58.622791\n",
      "            train_loss: 2.0661\ttrain_precision: 0.3792\ttrain_recall: 0.3726\n",
      "            val_loss: 2.2992\tval_precision: 0.3104\tval_recall:0.3924\n",
      "            best_epoch: 249\tloss: 2.2992\tpre: 0.3104\trec: 0.3924\n"
     ]
    },
    {
     "name": "stderr",
     "output_type": "stream",
     "text": [
      " 55%|████████████████████████████████████████████████████████                                              | 55/100 [1:50:48<1:33:26, 124.60s/it]"
     ]
    },
    {
     "name": "stdout",
     "output_type": "stream",
     "text": [
      "epoch: 251\ttime: 0:02:03.763477\n",
      "            train_loss: 2.0667\ttrain_precision: 0.3792\ttrain_recall: 0.3725\n",
      "            val_loss: 2.2998\tval_precision: 0.3103\tval_recall:0.3924\n",
      "            best_epoch: 249\tloss: 2.2992\tpre: 0.3104\trec: 0.3924\n"
     ]
    },
    {
     "name": "stderr",
     "output_type": "stream",
     "text": [
      " 56%|█████████████████████████████████████████████████████████                                             | 56/100 [1:52:49<1:30:40, 123.64s/it]"
     ]
    },
    {
     "name": "stdout",
     "output_type": "stream",
     "text": [
      "epoch: 252\ttime: 0:01:58.927248\n",
      "            train_loss: 2.0657\ttrain_precision: 0.3793\ttrain_recall: 0.3726\n",
      "            val_loss: 2.2995\tval_precision: 0.3103\tval_recall:0.3923\n",
      "            best_epoch: 249\tloss: 2.2992\tpre: 0.3104\trec: 0.3924\n"
     ]
    },
    {
     "name": "stderr",
     "output_type": "stream",
     "text": [
      " 57%|██████████████████████████████████████████████████████████▏                                           | 57/100 [1:54:51<1:28:15, 123.14s/it]"
     ]
    },
    {
     "name": "stdout",
     "output_type": "stream",
     "text": [
      "epoch: 253\ttime: 0:02:00.674772\n",
      "            train_loss: 2.0656\ttrain_precision: 0.3793\ttrain_recall: 0.3725\n",
      "            val_loss: 2.3002\tval_precision: 0.3104\tval_recall:0.3924\n",
      "            best_epoch: 249\tloss: 2.2992\tpre: 0.3104\trec: 0.3924\n"
     ]
    },
    {
     "name": "stderr",
     "output_type": "stream",
     "text": [
      " 58%|███████████████████████████████████████████████████████████▏                                          | 58/100 [1:56:55<1:26:22, 123.40s/it]"
     ]
    },
    {
     "name": "stdout",
     "output_type": "stream",
     "text": [
      "epoch: 254\ttime: 0:02:02.742113\n",
      "            train_loss: 2.0666\ttrain_precision: 0.3792\ttrain_recall: 0.3724\n",
      "            val_loss: 2.3005\tval_precision: 0.3103\tval_recall:0.3923\n",
      "            best_epoch: 249\tloss: 2.2992\tpre: 0.3104\trec: 0.3924\n"
     ]
    },
    {
     "name": "stderr",
     "output_type": "stream",
     "text": [
      " 59%|████████████████████████████████████████████████████████████▏                                         | 59/100 [1:58:58<1:24:13, 123.26s/it]"
     ]
    },
    {
     "name": "stdout",
     "output_type": "stream",
     "text": [
      "epoch: 255\ttime: 0:02:00.864644\n",
      "            train_loss: 2.0647\ttrain_precision: 0.3798\ttrain_recall: 0.3729\n",
      "            val_loss: 2.3000\tval_precision: 0.3105\tval_recall:0.3924\n",
      "            best_epoch: 249\tloss: 2.2992\tpre: 0.3104\trec: 0.3924\n"
     ]
    },
    {
     "name": "stderr",
     "output_type": "stream",
     "text": [
      " 60%|█████████████████████████████████████████████████████████████▏                                        | 60/100 [2:01:03<1:22:29, 123.74s/it]"
     ]
    },
    {
     "name": "stdout",
     "output_type": "stream",
     "text": [
      "epoch: 256\ttime: 0:02:02.527729\n",
      "            train_loss: 2.0669\ttrain_precision: 0.3793\ttrain_recall: 0.3721\n",
      "            val_loss: 2.2998\tval_precision: 0.3105\tval_recall:0.3925\n",
      "            best_epoch: 249\tloss: 2.2992\tpre: 0.3104\trec: 0.3924\n"
     ]
    },
    {
     "name": "stderr",
     "output_type": "stream",
     "text": [
      " 61%|██████████████████████████████████████████████████████████████▏                                       | 61/100 [2:03:17<1:22:27, 126.87s/it]"
     ]
    },
    {
     "name": "stdout",
     "output_type": "stream",
     "text": [
      "epoch: 257\ttime: 0:02:12.892557\n",
      "            train_loss: 2.0653\ttrain_precision: 0.3799\ttrain_recall: 0.3729\n",
      "            val_loss: 2.2999\tval_precision: 0.3106\tval_recall:0.3926\n",
      "            best_epoch: 249\tloss: 2.2992\tpre: 0.3104\trec: 0.3924\n"
     ]
    },
    {
     "name": "stderr",
     "output_type": "stream",
     "text": [
      " 62%|███████████████████████████████████████████████████████████████▏                                      | 62/100 [2:05:17<1:18:59, 124.72s/it]"
     ]
    },
    {
     "name": "stdout",
     "output_type": "stream",
     "text": [
      "epoch: 258\ttime: 0:01:58.517048\n",
      "            train_loss: 2.0668\ttrain_precision: 0.3795\ttrain_recall: 0.3724\n",
      "            val_loss: 2.3001\tval_precision: 0.3106\tval_recall:0.3924\n",
      "            best_epoch: 249\tloss: 2.2992\tpre: 0.3104\trec: 0.3924\n"
     ]
    },
    {
     "name": "stderr",
     "output_type": "stream",
     "text": [
      " 63%|████████████████████████████████████████████████████████████████▎                                     | 63/100 [2:07:16<1:15:55, 123.13s/it]"
     ]
    },
    {
     "name": "stdout",
     "output_type": "stream",
     "text": [
      "epoch: 259\ttime: 0:01:58.173743\n",
      "            train_loss: 2.0662\ttrain_precision: 0.3797\ttrain_recall: 0.3722\n",
      "            val_loss: 2.2997\tval_precision: 0.3106\tval_recall:0.3925\n",
      "            best_epoch: 249\tloss: 2.2992\tpre: 0.3104\trec: 0.3924\n"
     ]
    },
    {
     "name": "stderr",
     "output_type": "stream",
     "text": [
      " 64%|█████████████████████████████████████████████████████████████████▎                                    | 64/100 [2:09:14<1:12:57, 121.60s/it]"
     ]
    },
    {
     "name": "stdout",
     "output_type": "stream",
     "text": [
      "epoch: 260\ttime: 0:01:56.817464\n",
      "            train_loss: 2.0670\ttrain_precision: 0.3793\ttrain_recall: 0.3722\n",
      "            val_loss: 2.2997\tval_precision: 0.3105\tval_recall:0.3925\n",
      "            best_epoch: 249\tloss: 2.2992\tpre: 0.3104\trec: 0.3924\n",
      "epoch: 261\ttime: 0:01:59.650622\n",
      "            train_loss: 2.0640\ttrain_precision: 0.3804\ttrain_recall: 0.3734\n",
      "            val_loss: 2.2997\tval_precision: 0.3105\tval_recall:0.3925\n",
      "            best_epoch: 249\tloss: 2.2992\tpre: 0.3104\trec: 0.3924\n"
     ]
    },
    {
     "name": "stderr",
     "output_type": "stream",
     "text": [
      " 66%|███████████████████████████████████████████████████████████████████▎                                  | 66/100 [2:13:20<1:09:19, 122.35s/it]"
     ]
    },
    {
     "name": "stdout",
     "output_type": "stream",
     "text": [
      "epoch: 262\ttime: 0:02:01.908040\n",
      "            train_loss: 2.0642\ttrain_precision: 0.3799\ttrain_recall: 0.3727\n",
      "            val_loss: 2.2996\tval_precision: 0.3105\tval_recall:0.3925\n",
      "            best_epoch: 249\tloss: 2.2992\tpre: 0.3104\trec: 0.3924\n"
     ]
    },
    {
     "name": "stderr",
     "output_type": "stream",
     "text": [
      " 67%|████████████████████████████████████████████████████████████████████▎                                 | 67/100 [2:15:23<1:07:15, 122.29s/it]"
     ]
    },
    {
     "name": "stdout",
     "output_type": "stream",
     "text": [
      "epoch: 263\ttime: 0:02:00.873669\n",
      "            train_loss: 2.0647\ttrain_precision: 0.3802\ttrain_recall: 0.3729\n",
      "            val_loss: 2.2995\tval_precision: 0.3105\tval_recall:0.3924\n",
      "            best_epoch: 249\tloss: 2.2992\tpre: 0.3104\trec: 0.3924\n"
     ]
    },
    {
     "name": "stderr",
     "output_type": "stream",
     "text": [
      " 68%|█████████████████████████████████████████████████████████████████████▎                                | 68/100 [2:17:28<1:05:46, 123.32s/it]"
     ]
    },
    {
     "name": "stdout",
     "output_type": "stream",
     "text": [
      "epoch: 264\ttime: 0:02:04.427746\n",
      "            train_loss: 2.0646\ttrain_precision: 0.3802\ttrain_recall: 0.3729\n",
      "            val_loss: 2.2996\tval_precision: 0.3104\tval_recall:0.3923\n",
      "            best_epoch: 249\tloss: 2.2992\tpre: 0.3104\trec: 0.3924\n"
     ]
    },
    {
     "name": "stderr",
     "output_type": "stream",
     "text": [
      " 69%|██████████████████████████████████████████████████████████████████████▍                               | 69/100 [2:19:31<1:03:39, 123.22s/it]"
     ]
    },
    {
     "name": "stdout",
     "output_type": "stream",
     "text": [
      "epoch: 265\ttime: 0:02:00.967274\n",
      "            train_loss: 2.0652\ttrain_precision: 0.3798\ttrain_recall: 0.3726\n",
      "            val_loss: 2.2995\tval_precision: 0.3104\tval_recall:0.3923\n",
      "            best_epoch: 249\tloss: 2.2992\tpre: 0.3104\trec: 0.3924\n"
     ]
    },
    {
     "name": "stderr",
     "output_type": "stream",
     "text": [
      " 70%|███████████████████████████████████████████████████████████████████████▍                              | 70/100 [2:21:35<1:01:38, 123.29s/it]"
     ]
    },
    {
     "name": "stdout",
     "output_type": "stream",
     "text": [
      "epoch: 266\ttime: 0:02:01.066439\n",
      "            train_loss: 2.0641\ttrain_precision: 0.3797\ttrain_recall: 0.3729\n",
      "            val_loss: 2.2996\tval_precision: 0.3105\tval_recall:0.3925\n",
      "            best_epoch: 249\tloss: 2.2992\tpre: 0.3104\trec: 0.3924\n"
     ]
    },
    {
     "name": "stderr",
     "output_type": "stream",
     "text": [
      " 71%|█████████████████████████████████████████████████████████████████████████▊                              | 71/100 [2:23:38<59:36, 123.32s/it]"
     ]
    },
    {
     "name": "stdout",
     "output_type": "stream",
     "text": [
      "epoch: 267\ttime: 0:02:02.028104\n",
      "            train_loss: 2.0643\ttrain_precision: 0.3799\ttrain_recall: 0.3729\n",
      "            val_loss: 2.2995\tval_precision: 0.3105\tval_recall:0.3925\n",
      "            best_epoch: 249\tloss: 2.2992\tpre: 0.3104\trec: 0.3924\n"
     ]
    },
    {
     "name": "stderr",
     "output_type": "stream",
     "text": [
      " 72%|██████████████████████████████████████████████████████████████████████████▉                             | 72/100 [2:25:41<57:27, 123.12s/it]"
     ]
    },
    {
     "name": "stdout",
     "output_type": "stream",
     "text": [
      "epoch: 268\ttime: 0:02:00.209310\n",
      "            train_loss: 2.0652\ttrain_precision: 0.3794\ttrain_recall: 0.3725\n",
      "            val_loss: 2.2996\tval_precision: 0.3105\tval_recall:0.3925\n",
      "            best_epoch: 249\tloss: 2.2992\tpre: 0.3104\trec: 0.3924\n"
     ]
    },
    {
     "name": "stderr",
     "output_type": "stream",
     "text": [
      " 73%|███████████████████████████████████████████████████████████████████████████▉                            | 73/100 [2:27:45<55:37, 123.60s/it]"
     ]
    },
    {
     "name": "stdout",
     "output_type": "stream",
     "text": [
      "epoch: 269\ttime: 0:02:02.395041\n",
      "            train_loss: 2.0657\ttrain_precision: 0.3794\ttrain_recall: 0.3723\n",
      "            val_loss: 2.2996\tval_precision: 0.3105\tval_recall:0.3925\n",
      "            best_epoch: 249\tloss: 2.2992\tpre: 0.3104\trec: 0.3924\n"
     ]
    },
    {
     "name": "stderr",
     "output_type": "stream",
     "text": [
      " 74%|████████████████████████████████████████████████████████████████████████████▉                           | 74/100 [2:29:52<53:54, 124.42s/it]"
     ]
    },
    {
     "name": "stdout",
     "output_type": "stream",
     "text": [
      "epoch: 270\ttime: 0:02:03.894076\n",
      "            train_loss: 2.0650\ttrain_precision: 0.3797\ttrain_recall: 0.3726\n",
      "            val_loss: 2.2995\tval_precision: 0.3105\tval_recall:0.3925\n",
      "            best_epoch: 249\tloss: 2.2992\tpre: 0.3104\trec: 0.3924\n"
     ]
    },
    {
     "name": "stderr",
     "output_type": "stream",
     "text": [
      " 75%|██████████████████████████████████████████████████████████████████████████████                          | 75/100 [2:31:53<51:24, 123.40s/it]"
     ]
    },
    {
     "name": "stdout",
     "output_type": "stream",
     "text": [
      "epoch: 271\ttime: 0:01:59.509905\n",
      "            train_loss: 2.0644\ttrain_precision: 0.3800\ttrain_recall: 0.3730\n",
      "            val_loss: 2.2995\tval_precision: 0.3105\tval_recall:0.3925\n",
      "            best_epoch: 249\tloss: 2.2992\tpre: 0.3104\trec: 0.3924\n"
     ]
    },
    {
     "name": "stderr",
     "output_type": "stream",
     "text": [
      " 76%|███████████████████████████████████████████████████████████████████████████████                         | 76/100 [2:34:06<50:33, 126.40s/it]"
     ]
    },
    {
     "name": "stdout",
     "output_type": "stream",
     "text": [
      "epoch: 272\ttime: 0:02:12.206962\n",
      "            train_loss: 2.0647\ttrain_precision: 0.3801\ttrain_recall: 0.3730\n",
      "            val_loss: 2.2996\tval_precision: 0.3105\tval_recall:0.3924\n",
      "            best_epoch: 249\tloss: 2.2992\tpre: 0.3104\trec: 0.3924\n"
     ]
    },
    {
     "name": "stderr",
     "output_type": "stream",
     "text": [
      " 77%|████████████████████████████████████████████████████████████████████████████████                        | 77/100 [2:36:11<48:13, 125.81s/it]"
     ]
    },
    {
     "name": "stdout",
     "output_type": "stream",
     "text": [
      "epoch: 273\ttime: 0:02:03.256509\n",
      "            train_loss: 2.0657\ttrain_precision: 0.3800\ttrain_recall: 0.3728\n",
      "            val_loss: 2.2996\tval_precision: 0.3105\tval_recall:0.3925\n",
      "            best_epoch: 249\tloss: 2.2992\tpre: 0.3104\trec: 0.3924\n"
     ]
    },
    {
     "name": "stderr",
     "output_type": "stream",
     "text": [
      " 78%|█████████████████████████████████████████████████████████████████████████████████                       | 78/100 [2:38:13<45:45, 124.81s/it]"
     ]
    },
    {
     "name": "stdout",
     "output_type": "stream",
     "text": [
      "epoch: 274\ttime: 0:02:01.164712\n",
      "            train_loss: 2.0649\ttrain_precision: 0.3798\ttrain_recall: 0.3727\n",
      "            val_loss: 2.2994\tval_precision: 0.3105\tval_recall:0.3925\n",
      "            best_epoch: 249\tloss: 2.2992\tpre: 0.3104\trec: 0.3924\n"
     ]
    },
    {
     "name": "stderr",
     "output_type": "stream",
     "text": [
      " 79%|██████████████████████████████████████████████████████████████████████████████████▏                     | 79/100 [2:40:16<43:30, 124.32s/it]"
     ]
    },
    {
     "name": "stdout",
     "output_type": "stream",
     "text": [
      "epoch: 275\ttime: 0:02:00.885630\n",
      "            train_loss: 2.0659\ttrain_precision: 0.3797\ttrain_recall: 0.3726\n",
      "            val_loss: 2.2996\tval_precision: 0.3105\tval_recall:0.3925\n",
      "            best_epoch: 249\tloss: 2.2992\tpre: 0.3104\trec: 0.3924\n"
     ]
    },
    {
     "name": "stderr",
     "output_type": "stream",
     "text": [
      " 80%|███████████████████████████████████████████████████████████████████████████████████▏                    | 80/100 [2:42:15<40:53, 122.66s/it]"
     ]
    },
    {
     "name": "stdout",
     "output_type": "stream",
     "text": [
      "epoch: 276\ttime: 0:01:57.431378\n",
      "            train_loss: 2.0637\ttrain_precision: 0.3802\ttrain_recall: 0.3732\n",
      "            val_loss: 2.2997\tval_precision: 0.3105\tval_recall:0.3924\n",
      "            best_epoch: 249\tloss: 2.2992\tpre: 0.3104\trec: 0.3924\n"
     ]
    },
    {
     "name": "stderr",
     "output_type": "stream",
     "text": [
      " 81%|████████████████████████████████████████████████████████████████████████████████████▏                   | 81/100 [2:44:17<38:48, 122.54s/it]"
     ]
    },
    {
     "name": "stdout",
     "output_type": "stream",
     "text": [
      "epoch: 277\ttime: 0:02:01.019856\n",
      "            train_loss: 2.0646\ttrain_precision: 0.3797\ttrain_recall: 0.3728\n",
      "            val_loss: 2.2996\tval_precision: 0.3105\tval_recall:0.3924\n",
      "            best_epoch: 249\tloss: 2.2992\tpre: 0.3104\trec: 0.3924\n"
     ]
    },
    {
     "name": "stderr",
     "output_type": "stream",
     "text": [
      " 82%|█████████████████████████████████████████████████████████████████████████████████████▎                  | 82/100 [2:46:21<36:49, 122.75s/it]"
     ]
    },
    {
     "name": "stdout",
     "output_type": "stream",
     "text": [
      "epoch: 278\ttime: 0:02:00.826644\n",
      "            train_loss: 2.0654\ttrain_precision: 0.3798\ttrain_recall: 0.3726\n",
      "            val_loss: 2.2997\tval_precision: 0.3105\tval_recall:0.3925\n",
      "            best_epoch: 249\tloss: 2.2992\tpre: 0.3104\trec: 0.3924\n"
     ]
    },
    {
     "name": "stderr",
     "output_type": "stream",
     "text": [
      " 83%|██████████████████████████████████████████████████████████████████████████████████████▎                 | 83/100 [2:48:22<34:38, 122.26s/it]"
     ]
    },
    {
     "name": "stdout",
     "output_type": "stream",
     "text": [
      "epoch: 279\ttime: 0:01:59.806657\n",
      "            train_loss: 2.0664\ttrain_precision: 0.3792\ttrain_recall: 0.3720\n",
      "            val_loss: 2.2997\tval_precision: 0.3104\tval_recall:0.3924\n",
      "            best_epoch: 249\tloss: 2.2992\tpre: 0.3104\trec: 0.3924\n"
     ]
    },
    {
     "name": "stderr",
     "output_type": "stream",
     "text": [
      " 84%|███████████████████████████████████████████████████████████████████████████████████████▎                | 84/100 [2:50:24<32:34, 122.13s/it]"
     ]
    },
    {
     "name": "stdout",
     "output_type": "stream",
     "text": [
      "epoch: 280\ttime: 0:02:00.616001\n",
      "            train_loss: 2.0668\ttrain_precision: 0.3793\ttrain_recall: 0.3721\n",
      "            val_loss: 2.2997\tval_precision: 0.3105\tval_recall:0.3924\n",
      "            best_epoch: 249\tloss: 2.2992\tpre: 0.3104\trec: 0.3924\n",
      "epoch: 281\ttime: 0:02:01.976271\n",
      "            train_loss: 2.0664\ttrain_precision: 0.3797\ttrain_recall: 0.3725\n",
      "            val_loss: 2.2996\tval_precision: 0.3104\tval_recall:0.3924\n",
      "            best_epoch: 249\tloss: 2.2992\tpre: 0.3104\trec: 0.3924\n"
     ]
    },
    {
     "name": "stderr",
     "output_type": "stream",
     "text": [
      " 86%|█████████████████████████████████████████████████████████████████████████████████████████▍              | 86/100 [2:54:27<28:21, 121.55s/it]"
     ]
    },
    {
     "name": "stdout",
     "output_type": "stream",
     "text": [
      "epoch: 282\ttime: 0:01:57.237903\n",
      "            train_loss: 2.0637\ttrain_precision: 0.3803\ttrain_recall: 0.3731\n",
      "            val_loss: 2.2996\tval_precision: 0.3105\tval_recall:0.3924\n",
      "            best_epoch: 249\tloss: 2.2992\tpre: 0.3104\trec: 0.3924\n"
     ]
    },
    {
     "name": "stderr",
     "output_type": "stream",
     "text": [
      " 87%|██████████████████████████████████████████████████████████████████████████████████████████▍             | 87/100 [2:56:26<26:12, 120.97s/it]"
     ]
    },
    {
     "name": "stdout",
     "output_type": "stream",
     "text": [
      "epoch: 283\ttime: 0:01:57.419048\n",
      "            train_loss: 2.0643\ttrain_precision: 0.3798\ttrain_recall: 0.3728\n",
      "            val_loss: 2.2997\tval_precision: 0.3105\tval_recall:0.3924\n",
      "            best_epoch: 249\tloss: 2.2992\tpre: 0.3104\trec: 0.3924\n"
     ]
    },
    {
     "name": "stderr",
     "output_type": "stream",
     "text": [
      " 88%|███████████████████████████████████████████████████████████████████████████████████████████▌            | 88/100 [2:58:30<24:21, 121.77s/it]"
     ]
    },
    {
     "name": "stdout",
     "output_type": "stream",
     "text": [
      "epoch: 284\ttime: 0:02:01.745096\n",
      "            train_loss: 2.0645\ttrain_precision: 0.3797\ttrain_recall: 0.3728\n",
      "            val_loss: 2.2997\tval_precision: 0.3104\tval_recall:0.3924\n",
      "            best_epoch: 249\tloss: 2.2992\tpre: 0.3104\trec: 0.3924\n"
     ]
    },
    {
     "name": "stderr",
     "output_type": "stream",
     "text": [
      " 89%|████████████████████████████████████████████████████████████████████████████████████████████▌           | 89/100 [3:00:30<22:13, 121.26s/it]"
     ]
    },
    {
     "name": "stdout",
     "output_type": "stream",
     "text": [
      "epoch: 285\ttime: 0:01:58.831993\n",
      "            train_loss: 2.0649\ttrain_precision: 0.3796\ttrain_recall: 0.3728\n",
      "            val_loss: 2.2997\tval_precision: 0.3105\tval_recall:0.3924\n",
      "            best_epoch: 249\tloss: 2.2992\tpre: 0.3104\trec: 0.3924\n"
     ]
    },
    {
     "name": "stderr",
     "output_type": "stream",
     "text": [
      " 90%|█████████████████████████████████████████████████████████████████████████████████████████████▌          | 90/100 [3:02:31<20:10, 121.07s/it]"
     ]
    },
    {
     "name": "stdout",
     "output_type": "stream",
     "text": [
      "epoch: 286\ttime: 0:01:59.411841\n",
      "            train_loss: 2.0648\ttrain_precision: 0.3801\ttrain_recall: 0.3732\n",
      "            val_loss: 2.2996\tval_precision: 0.3105\tval_recall:0.3924\n",
      "            best_epoch: 249\tloss: 2.2992\tpre: 0.3104\trec: 0.3924\n"
     ]
    },
    {
     "name": "stderr",
     "output_type": "stream",
     "text": [
      " 91%|██████████████████████████████████████████████████████████████████████████████████████████████▋         | 91/100 [3:04:33<18:13, 121.52s/it]"
     ]
    },
    {
     "name": "stdout",
     "output_type": "stream",
     "text": [
      "epoch: 287\ttime: 0:02:01.440701\n",
      "            train_loss: 2.0631\ttrain_precision: 0.3801\ttrain_recall: 0.3732\n",
      "            val_loss: 2.2996\tval_precision: 0.3105\tval_recall:0.3924\n",
      "            best_epoch: 249\tloss: 2.2992\tpre: 0.3104\trec: 0.3924\n"
     ]
    },
    {
     "name": "stderr",
     "output_type": "stream",
     "text": [
      " 92%|███████████████████████████████████████████████████████████████████████████████████████████████▋        | 92/100 [3:06:37<16:17, 122.24s/it]"
     ]
    },
    {
     "name": "stdout",
     "output_type": "stream",
     "text": [
      "epoch: 288\ttime: 0:02:02.736996\n",
      "            train_loss: 2.0638\ttrain_precision: 0.3799\ttrain_recall: 0.3731\n",
      "            val_loss: 2.2996\tval_precision: 0.3105\tval_recall:0.3924\n",
      "            best_epoch: 249\tloss: 2.2992\tpre: 0.3104\trec: 0.3924\n"
     ]
    },
    {
     "name": "stderr",
     "output_type": "stream",
     "text": [
      " 93%|████████████████████████████████████████████████████████████████████████████████████████████████▋       | 93/100 [3:08:39<14:15, 122.22s/it]"
     ]
    },
    {
     "name": "stdout",
     "output_type": "stream",
     "text": [
      "epoch: 289\ttime: 0:01:59.858118\n",
      "            train_loss: 2.0650\ttrain_precision: 0.3797\ttrain_recall: 0.3725\n",
      "            val_loss: 2.2997\tval_precision: 0.3105\tval_recall:0.3925\n",
      "            best_epoch: 249\tloss: 2.2992\tpre: 0.3104\trec: 0.3924\n"
     ]
    },
    {
     "name": "stderr",
     "output_type": "stream",
     "text": [
      " 94%|█████████████████████████████████████████████████████████████████████████████████████████████████▊      | 94/100 [3:10:51<12:31, 125.19s/it]"
     ]
    },
    {
     "name": "stdout",
     "output_type": "stream",
     "text": [
      "epoch: 290\ttime: 0:02:10.932988\n",
      "            train_loss: 2.0634\ttrain_precision: 0.3801\ttrain_recall: 0.3729\n",
      "            val_loss: 2.2995\tval_precision: 0.3105\tval_recall:0.3924\n",
      "            best_epoch: 249\tloss: 2.2992\tpre: 0.3104\trec: 0.3924\n"
     ]
    },
    {
     "name": "stderr",
     "output_type": "stream",
     "text": [
      " 95%|██████████████████████████████████████████████████████████████████████████████████████████████████▊     | 95/100 [3:12:56<10:25, 125.03s/it]"
     ]
    },
    {
     "name": "stdout",
     "output_type": "stream",
     "text": [
      "epoch: 291\ttime: 0:02:02.378478\n",
      "            train_loss: 2.0668\ttrain_precision: 0.3795\ttrain_recall: 0.3722\n",
      "            val_loss: 2.2996\tval_precision: 0.3105\tval_recall:0.3924\n",
      "            best_epoch: 249\tloss: 2.2992\tpre: 0.3104\trec: 0.3924\n"
     ]
    },
    {
     "name": "stderr",
     "output_type": "stream",
     "text": [
      " 96%|███████████████████████████████████████████████████████████████████████████████████████████████████▊    | 96/100 [3:14:54<08:12, 123.01s/it]"
     ]
    },
    {
     "name": "stdout",
     "output_type": "stream",
     "text": [
      "epoch: 292\ttime: 0:01:57.064275\n",
      "            train_loss: 2.0658\ttrain_precision: 0.3798\ttrain_recall: 0.3724\n",
      "            val_loss: 2.2996\tval_precision: 0.3105\tval_recall:0.3925\n",
      "            best_epoch: 249\tloss: 2.2992\tpre: 0.3104\trec: 0.3924\n"
     ]
    },
    {
     "name": "stderr",
     "output_type": "stream",
     "text": [
      " 97%|████████████████████████████████████████████████████████████████████████████████████████████████████▉   | 97/100 [3:16:53<06:05, 121.84s/it]"
     ]
    },
    {
     "name": "stdout",
     "output_type": "stream",
     "text": [
      "epoch: 293\ttime: 0:01:58.003781\n",
      "            train_loss: 2.0643\ttrain_precision: 0.3802\ttrain_recall: 0.3731\n",
      "            val_loss: 2.2995\tval_precision: 0.3105\tval_recall:0.3925\n",
      "            best_epoch: 249\tloss: 2.2992\tpre: 0.3104\trec: 0.3924\n"
     ]
    },
    {
     "name": "stderr",
     "output_type": "stream",
     "text": [
      " 98%|█████████████████████████████████████████████████████████████████████████████████████████████████████▉  | 98/100 [3:18:56<04:04, 122.20s/it]"
     ]
    },
    {
     "name": "stdout",
     "output_type": "stream",
     "text": [
      "epoch: 294\ttime: 0:02:01.844051\n",
      "            train_loss: 2.0632\ttrain_precision: 0.3802\ttrain_recall: 0.3731\n",
      "            val_loss: 2.2994\tval_precision: 0.3106\tval_recall:0.3926\n",
      "            best_epoch: 249\tloss: 2.2992\tpre: 0.3104\trec: 0.3924\n"
     ]
    },
    {
     "name": "stderr",
     "output_type": "stream",
     "text": [
      " 99%|██████████████████████████████████████████████████████████████████████████████████████████████████████▉ | 99/100 [3:21:00<02:02, 122.64s/it]"
     ]
    },
    {
     "name": "stdout",
     "output_type": "stream",
     "text": [
      "epoch: 295\ttime: 0:02:01.289325\n",
      "            train_loss: 2.0652\ttrain_precision: 0.3799\ttrain_recall: 0.3728\n",
      "            val_loss: 2.2995\tval_precision: 0.3106\tval_recall:0.3925\n",
      "            best_epoch: 249\tloss: 2.2992\tpre: 0.3104\trec: 0.3924\n"
     ]
    },
    {
     "name": "stderr",
     "output_type": "stream",
     "text": [
      "100%|███████████████████████████████████████████████████████████████████████████████████████████████████████| 100/100 [3:23:03<00:00, 121.83s/it]"
     ]
    },
    {
     "name": "stdout",
     "output_type": "stream",
     "text": [
      "epoch: 296\ttime: 0:02:00.491826\n",
      "            train_loss: 2.0638\ttrain_precision: 0.3802\ttrain_recall: 0.3730\n",
      "            val_loss: 2.2994\tval_precision: 0.3106\tval_recall:0.3926\n",
      "            best_epoch: 249\tloss: 2.2992\tpre: 0.3104\trec: 0.3924\n"
     ]
    },
    {
     "name": "stderr",
     "output_type": "stream",
     "text": [
      "\n"
     ]
    }
   ],
   "source": [
    "train_losses,val_losses=train(train_model,train_model.opt,train_loader,val_loader,\n",
    "    n_iters=100,lr_scheduler=lr_scheduler,direction=2,\n",
    "    save_path='./ckpt/human_unshared_50000/default_bidirection_cotrain.pth',\n",
    "                              resume='./ckpt/human_unshared_50000/default_bidirection_cotrain.pth')"
   ]
  },
  {
   "cell_type": "code",
   "execution_count": null,
   "id": "4347c329-ea7a-4bd3-9ae1-fa3152fdcce6",
   "metadata": {},
   "outputs": [],
   "source": [
    "with cProfile.Profile() as pr:\n",
    "    train_loop(train_model,train_loader,direction=0)\n",
    "pr.print_stats()"
   ]
  },
  {
   "cell_type": "code",
   "execution_count": null,
   "id": "b6c312ca-0dca-49e6-9648-e765974c2680",
   "metadata": {},
   "outputs": [],
   "source": [
    "for lay in train_model.modules():\n",
    "    if isinstance(lay,torch.nn.LSTMCell):\n",
    "        print(lay.weight_ih)"
   ]
  },
  {
   "cell_type": "code",
   "execution_count": null,
   "id": "ff296c8e-b101-4d2d-8ea3-7af835de2ae6",
   "metadata": {},
   "outputs": [],
   "source": []
  }
 ],
 "metadata": {
  "kernelspec": {
   "display_name": "Python 3 (ipykernel)",
   "language": "python",
   "name": "python3"
  },
  "language_info": {
   "codemirror_mode": {
    "name": "ipython",
    "version": 3
   },
   "file_extension": ".py",
   "mimetype": "text/x-python",
   "name": "python",
   "nbconvert_exporter": "python",
   "pygments_lexer": "ipython3",
   "version": "3.8.13"
  }
 },
 "nbformat": 4,
 "nbformat_minor": 5
}
